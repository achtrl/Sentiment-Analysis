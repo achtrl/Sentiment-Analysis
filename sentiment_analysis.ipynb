{
  "nbformat": 4,
  "nbformat_minor": 0,
  "metadata": {
    "colab": {
      "name": "sentiment_analysis.ipynb",
      "provenance": [],
      "collapsed_sections": []
    },
    "kernelspec": {
      "name": "python3",
      "display_name": "Python 3"
    }
  },
  "cells": [
    {
      "cell_type": "markdown",
      "metadata": {
        "id": "KwFSnTx6lhDP"
      },
      "source": [
        "# Sentiment Analysis"
      ]
    },
    {
      "cell_type": "markdown",
      "metadata": {
        "id": "RkEcVQX6lsFV"
      },
      "source": [
        "## Connect to Google Drive"
      ]
    },
    {
      "cell_type": "code",
      "metadata": {
        "colab": {
          "base_uri": "https://localhost:8080/"
        },
        "id": "Cjgb4V_qlgW_",
        "outputId": "09a4d1f2-eb86-4109-e00e-d363bba2e592"
      },
      "source": [
        "from google.colab import drive\n",
        "drive.mount('/content/gdrive/')"
      ],
      "execution_count": 1,
      "outputs": [
        {
          "output_type": "stream",
          "text": [
            "Mounted at /content/gdrive/\n"
          ],
          "name": "stdout"
        }
      ]
    },
    {
      "cell_type": "markdown",
      "metadata": {
        "id": "6rtikEZlmDEz"
      },
      "source": [
        "##Import libraries"
      ]
    },
    {
      "cell_type": "code",
      "metadata": {
        "id": "GL0PwozUmNk6",
        "colab": {
          "base_uri": "https://localhost:8080/"
        },
        "outputId": "d1bbec98-d933-47ea-a9da-517b4968afc2"
      },
      "source": [
        "import re\n",
        "import pandas as pd\n",
        "import nltk\n",
        "from tensorflow.keras.preprocessing.text import Tokenizer\n",
        "from tensorflow.keras.preprocessing.sequence import pad_sequences\n",
        "from sklearn.model_selection import train_test_split\n",
        "\n",
        "nltk.download('stopwords')"
      ],
      "execution_count": 21,
      "outputs": [
        {
          "output_type": "stream",
          "text": [
            "[nltk_data] Downloading package stopwords to /root/nltk_data...\n",
            "[nltk_data]   Package stopwords is already up-to-date!\n"
          ],
          "name": "stdout"
        },
        {
          "output_type": "execute_result",
          "data": {
            "text/plain": [
              "True"
            ]
          },
          "metadata": {
            "tags": []
          },
          "execution_count": 21
        }
      ]
    },
    {
      "cell_type": "markdown",
      "metadata": {
        "id": "DVQUmH6imb2G"
      },
      "source": [
        "##Import and explore data"
      ]
    },
    {
      "cell_type": "code",
      "metadata": {
        "colab": {
          "base_uri": "https://localhost:8080/",
          "height": 221
        },
        "id": "diMTK8x9mhM9",
        "outputId": "fb9456b3-3430-47dd-f74b-6e62b8aedaa1"
      },
      "source": [
        "data = pd.read_csv('gdrive/MyDrive/Colab Notebooks/Sentiment-Analysis/data/sentiment.csv', encoding = \"latin-1\")\n",
        "data.head()"
      ],
      "execution_count": 3,
      "outputs": [
        {
          "output_type": "execute_result",
          "data": {
            "text/html": [
              "<div>\n",
              "<style scoped>\n",
              "    .dataframe tbody tr th:only-of-type {\n",
              "        vertical-align: middle;\n",
              "    }\n",
              "\n",
              "    .dataframe tbody tr th {\n",
              "        vertical-align: top;\n",
              "    }\n",
              "\n",
              "    .dataframe thead th {\n",
              "        text-align: right;\n",
              "    }\n",
              "</style>\n",
              "<table border=\"1\" class=\"dataframe\">\n",
              "  <thead>\n",
              "    <tr style=\"text-align: right;\">\n",
              "      <th></th>\n",
              "      <th>0</th>\n",
              "      <th>1467810369</th>\n",
              "      <th>Mon Apr 06 22:19:45 PDT 2009</th>\n",
              "      <th>NO_QUERY</th>\n",
              "      <th>_TheSpecialOne_</th>\n",
              "      <th>@switchfoot http://twitpic.com/2y1zl - Awww, that's a bummer.  You shoulda got David Carr of Third Day to do it. ;D</th>\n",
              "    </tr>\n",
              "  </thead>\n",
              "  <tbody>\n",
              "    <tr>\n",
              "      <th>0</th>\n",
              "      <td>0</td>\n",
              "      <td>1467810672</td>\n",
              "      <td>Mon Apr 06 22:19:49 PDT 2009</td>\n",
              "      <td>NO_QUERY</td>\n",
              "      <td>scotthamilton</td>\n",
              "      <td>is upset that he can't update his Facebook by ...</td>\n",
              "    </tr>\n",
              "    <tr>\n",
              "      <th>1</th>\n",
              "      <td>0</td>\n",
              "      <td>1467810917</td>\n",
              "      <td>Mon Apr 06 22:19:53 PDT 2009</td>\n",
              "      <td>NO_QUERY</td>\n",
              "      <td>mattycus</td>\n",
              "      <td>@Kenichan I dived many times for the ball. Man...</td>\n",
              "    </tr>\n",
              "    <tr>\n",
              "      <th>2</th>\n",
              "      <td>0</td>\n",
              "      <td>1467811184</td>\n",
              "      <td>Mon Apr 06 22:19:57 PDT 2009</td>\n",
              "      <td>NO_QUERY</td>\n",
              "      <td>ElleCTF</td>\n",
              "      <td>my whole body feels itchy and like its on fire</td>\n",
              "    </tr>\n",
              "    <tr>\n",
              "      <th>3</th>\n",
              "      <td>0</td>\n",
              "      <td>1467811193</td>\n",
              "      <td>Mon Apr 06 22:19:57 PDT 2009</td>\n",
              "      <td>NO_QUERY</td>\n",
              "      <td>Karoli</td>\n",
              "      <td>@nationwideclass no, it's not behaving at all....</td>\n",
              "    </tr>\n",
              "    <tr>\n",
              "      <th>4</th>\n",
              "      <td>0</td>\n",
              "      <td>1467811372</td>\n",
              "      <td>Mon Apr 06 22:20:00 PDT 2009</td>\n",
              "      <td>NO_QUERY</td>\n",
              "      <td>joy_wolf</td>\n",
              "      <td>@Kwesidei not the whole crew</td>\n",
              "    </tr>\n",
              "  </tbody>\n",
              "</table>\n",
              "</div>"
            ],
            "text/plain": [
              "   0  ...  @switchfoot http://twitpic.com/2y1zl - Awww, that's a bummer.  You shoulda got David Carr of Third Day to do it. ;D\n",
              "0  0  ...  is upset that he can't update his Facebook by ...                                                                  \n",
              "1  0  ...  @Kenichan I dived many times for the ball. Man...                                                                  \n",
              "2  0  ...    my whole body feels itchy and like its on fire                                                                   \n",
              "3  0  ...  @nationwideclass no, it's not behaving at all....                                                                  \n",
              "4  0  ...                      @Kwesidei not the whole crew                                                                   \n",
              "\n",
              "[5 rows x 6 columns]"
            ]
          },
          "metadata": {
            "tags": []
          },
          "execution_count": 3
        }
      ]
    },
    {
      "cell_type": "markdown",
      "metadata": {
        "id": "3p653DSWmvpB"
      },
      "source": [
        "We need to rename the columns and we can get rid of all the useless data. To build our sentiment analysis model, we only need the text and the sentiment columns."
      ]
    },
    {
      "cell_type": "code",
      "metadata": {
        "colab": {
          "base_uri": "https://localhost:8080/",
          "height": 204
        },
        "id": "3fsfLNSTmnOO",
        "outputId": "e49a777c-cc93-46ee-ed5c-f3a636832c30"
      },
      "source": [
        "data.columns = ['Sentiment', 'ids', 'Date', 'Flag', 'User', 'Text']\n",
        "data.drop(['ids', 'Flag', 'Date', 'User'], axis=1, inplace=True)\n",
        "data = data.sample(frac=1) # shuffle the data\n",
        "data.head()"
      ],
      "execution_count": 4,
      "outputs": [
        {
          "output_type": "execute_result",
          "data": {
            "text/html": [
              "<div>\n",
              "<style scoped>\n",
              "    .dataframe tbody tr th:only-of-type {\n",
              "        vertical-align: middle;\n",
              "    }\n",
              "\n",
              "    .dataframe tbody tr th {\n",
              "        vertical-align: top;\n",
              "    }\n",
              "\n",
              "    .dataframe thead th {\n",
              "        text-align: right;\n",
              "    }\n",
              "</style>\n",
              "<table border=\"1\" class=\"dataframe\">\n",
              "  <thead>\n",
              "    <tr style=\"text-align: right;\">\n",
              "      <th></th>\n",
              "      <th>Sentiment</th>\n",
              "      <th>Text</th>\n",
              "    </tr>\n",
              "  </thead>\n",
              "  <tbody>\n",
              "    <tr>\n",
              "      <th>33423</th>\n",
              "      <td>0</td>\n",
              "      <td>I hate Mondays...</td>\n",
              "    </tr>\n",
              "    <tr>\n",
              "      <th>80174</th>\n",
              "      <td>0</td>\n",
              "      <td>Super tired  I need relaxing time.. Had a very...</td>\n",
              "    </tr>\n",
              "    <tr>\n",
              "      <th>765138</th>\n",
              "      <td>0</td>\n",
              "      <td>sittin in 309 soc inequalities....dreading the...</td>\n",
              "    </tr>\n",
              "    <tr>\n",
              "      <th>989644</th>\n",
              "      <td>4</td>\n",
              "      <td>First Exam Tommorrow! Ready to suck!  XD</td>\n",
              "    </tr>\n",
              "    <tr>\n",
              "      <th>1120400</th>\n",
              "      <td>4</td>\n",
              "      <td>@sid88 Happy to know that. Welcome to the fami...</td>\n",
              "    </tr>\n",
              "  </tbody>\n",
              "</table>\n",
              "</div>"
            ],
            "text/plain": [
              "         Sentiment                                               Text\n",
              "33423            0                                 I hate Mondays... \n",
              "80174            0  Super tired  I need relaxing time.. Had a very...\n",
              "765138           0  sittin in 309 soc inequalities....dreading the...\n",
              "989644           4           First Exam Tommorrow! Ready to suck!  XD\n",
              "1120400          4  @sid88 Happy to know that. Welcome to the fami..."
            ]
          },
          "metadata": {
            "tags": []
          },
          "execution_count": 4
        }
      ]
    },
    {
      "cell_type": "code",
      "metadata": {
        "colab": {
          "base_uri": "https://localhost:8080/"
        },
        "id": "Zz_0KB3BnUeo",
        "outputId": "c6b620d4-1de9-475c-fb87-e8904621d715"
      },
      "source": [
        "data['Sentiment'].value_counts()"
      ],
      "execution_count": 5,
      "outputs": [
        {
          "output_type": "execute_result",
          "data": {
            "text/plain": [
              "4    800000\n",
              "0    799999\n",
              "Name: Sentiment, dtype: int64"
            ]
          },
          "metadata": {
            "tags": []
          },
          "execution_count": 5
        }
      ]
    },
    {
      "cell_type": "markdown",
      "metadata": {
        "id": "eMADpO7IpY0T"
      },
      "source": [
        "##Preprocess the data"
      ]
    },
    {
      "cell_type": "markdown",
      "metadata": {
        "id": "Hjxp-tnrpbEd"
      },
      "source": [
        "The sentiment column has 2 different values : 0 for negative and 4 for positive. Let's replace them by 'positive' and 'negative' so that it is easier to read and we'll use the factorize method later to encode it for our model.\n"
      ]
    },
    {
      "cell_type": "code",
      "metadata": {
        "colab": {
          "base_uri": "https://localhost:8080/",
          "height": 204
        },
        "id": "60xtf1sppem2",
        "outputId": "bdc2bf53-ad16-4dec-bcc8-c77d81fd42aa"
      },
      "source": [
        "data.Sentiment.replace(4, 'positive', inplace=True)\n",
        "data.Sentiment.replace(0, 'negative', inplace=True)\n",
        "data.head()"
      ],
      "execution_count": 6,
      "outputs": [
        {
          "output_type": "execute_result",
          "data": {
            "text/html": [
              "<div>\n",
              "<style scoped>\n",
              "    .dataframe tbody tr th:only-of-type {\n",
              "        vertical-align: middle;\n",
              "    }\n",
              "\n",
              "    .dataframe tbody tr th {\n",
              "        vertical-align: top;\n",
              "    }\n",
              "\n",
              "    .dataframe thead th {\n",
              "        text-align: right;\n",
              "    }\n",
              "</style>\n",
              "<table border=\"1\" class=\"dataframe\">\n",
              "  <thead>\n",
              "    <tr style=\"text-align: right;\">\n",
              "      <th></th>\n",
              "      <th>Sentiment</th>\n",
              "      <th>Text</th>\n",
              "    </tr>\n",
              "  </thead>\n",
              "  <tbody>\n",
              "    <tr>\n",
              "      <th>33423</th>\n",
              "      <td>negative</td>\n",
              "      <td>I hate Mondays...</td>\n",
              "    </tr>\n",
              "    <tr>\n",
              "      <th>80174</th>\n",
              "      <td>negative</td>\n",
              "      <td>Super tired  I need relaxing time.. Had a very...</td>\n",
              "    </tr>\n",
              "    <tr>\n",
              "      <th>765138</th>\n",
              "      <td>negative</td>\n",
              "      <td>sittin in 309 soc inequalities....dreading the...</td>\n",
              "    </tr>\n",
              "    <tr>\n",
              "      <th>989644</th>\n",
              "      <td>positive</td>\n",
              "      <td>First Exam Tommorrow! Ready to suck!  XD</td>\n",
              "    </tr>\n",
              "    <tr>\n",
              "      <th>1120400</th>\n",
              "      <td>positive</td>\n",
              "      <td>@sid88 Happy to know that. Welcome to the fami...</td>\n",
              "    </tr>\n",
              "  </tbody>\n",
              "</table>\n",
              "</div>"
            ],
            "text/plain": [
              "        Sentiment                                               Text\n",
              "33423    negative                                 I hate Mondays... \n",
              "80174    negative  Super tired  I need relaxing time.. Had a very...\n",
              "765138   negative  sittin in 309 soc inequalities....dreading the...\n",
              "989644   positive           First Exam Tommorrow! Ready to suck!  XD\n",
              "1120400  positive  @sid88 Happy to know that. Welcome to the fami..."
            ]
          },
          "metadata": {
            "tags": []
          },
          "execution_count": 6
        }
      ]
    },
    {
      "cell_type": "markdown",
      "metadata": {
        "id": "H_BrpIJtpiUZ"
      },
      "source": [
        "Now we need to preprocess the text. We need to lower it, get rid of usernames and numbers."
      ]
    },
    {
      "cell_type": "code",
      "metadata": {
        "colab": {
          "base_uri": "https://localhost:8080/",
          "height": 359
        },
        "id": "H9NEFUhKpy-z",
        "outputId": "f720fd0b-00ce-471f-c4f6-6c8f3c125a06"
      },
      "source": [
        "data['Preprocessed text'] = pd.Series(dtype='object')\n",
        "\n",
        "data['Preprocessed text'] = data['Text'].apply((lambda x: x.lower()))\n",
        "data['Preprocessed text'] = data['Preprocessed text'].apply((lambda x: re.sub(r'\\w*\\d\\w*', '', x).strip()))\n",
        "data['Preprocessed text'] = data['Preprocessed text'].apply((lambda x: re.sub('^@(?=.*\\w)[\\w]{1,15}','',x)))\n",
        "data.head()"
      ],
      "execution_count": 7,
      "outputs": [
        {
          "output_type": "execute_result",
          "data": {
            "text/html": [
              "<div>\n",
              "<style scoped>\n",
              "    .dataframe tbody tr th:only-of-type {\n",
              "        vertical-align: middle;\n",
              "    }\n",
              "\n",
              "    .dataframe tbody tr th {\n",
              "        vertical-align: top;\n",
              "    }\n",
              "\n",
              "    .dataframe thead th {\n",
              "        text-align: right;\n",
              "    }\n",
              "</style>\n",
              "<table border=\"1\" class=\"dataframe\">\n",
              "  <thead>\n",
              "    <tr style=\"text-align: right;\">\n",
              "      <th></th>\n",
              "      <th>Sentiment</th>\n",
              "      <th>Text</th>\n",
              "      <th>Preprocessed text</th>\n",
              "    </tr>\n",
              "  </thead>\n",
              "  <tbody>\n",
              "    <tr>\n",
              "      <th>33423</th>\n",
              "      <td>negative</td>\n",
              "      <td>I hate Mondays...</td>\n",
              "      <td>i hate mondays...</td>\n",
              "    </tr>\n",
              "    <tr>\n",
              "      <th>80174</th>\n",
              "      <td>negative</td>\n",
              "      <td>Super tired  I need relaxing time.. Had a very...</td>\n",
              "      <td>super tired  i need relaxing time.. had a very...</td>\n",
              "    </tr>\n",
              "    <tr>\n",
              "      <th>765138</th>\n",
              "      <td>negative</td>\n",
              "      <td>sittin in 309 soc inequalities....dreading the...</td>\n",
              "      <td>sittin in  soc inequalities....dreading the en...</td>\n",
              "    </tr>\n",
              "    <tr>\n",
              "      <th>989644</th>\n",
              "      <td>positive</td>\n",
              "      <td>First Exam Tommorrow! Ready to suck!  XD</td>\n",
              "      <td>first exam tommorrow! ready to suck!  xd</td>\n",
              "    </tr>\n",
              "    <tr>\n",
              "      <th>1120400</th>\n",
              "      <td>positive</td>\n",
              "      <td>@sid88 Happy to know that. Welcome to the fami...</td>\n",
              "      <td>@ happy to know that. welcome to the family, kid</td>\n",
              "    </tr>\n",
              "    <tr>\n",
              "      <th>1035332</th>\n",
              "      <td>positive</td>\n",
              "      <td>@mrskutcher What happened? Can you give a link...</td>\n",
              "      <td>what happened? can you give a link please?</td>\n",
              "    </tr>\n",
              "    <tr>\n",
              "      <th>794425</th>\n",
              "      <td>negative</td>\n",
              "      <td>I miss NHL hockey  ... as if I have to wait an...</td>\n",
              "      <td>i miss nhl hockey  ... as if i have to wait an...</td>\n",
              "    </tr>\n",
              "    <tr>\n",
              "      <th>1526377</th>\n",
              "      <td>positive</td>\n",
              "      <td>@LoMo0208 I'll make it easy for you, hire me a...</td>\n",
              "      <td>@ i'll make it easy for you, hire me at $,,/mo...</td>\n",
              "    </tr>\n",
              "    <tr>\n",
              "      <th>622206</th>\n",
              "      <td>negative</td>\n",
              "      <td>I just wanna you here by my side</td>\n",
              "      <td>i just wanna you here by my side</td>\n",
              "    </tr>\n",
              "    <tr>\n",
              "      <th>162065</th>\n",
              "      <td>negative</td>\n",
              "      <td>Rain rain go away</td>\n",
              "      <td>rain rain go away</td>\n",
              "    </tr>\n",
              "  </tbody>\n",
              "</table>\n",
              "</div>"
            ],
            "text/plain": [
              "        Sentiment  ...                                  Preprocessed text\n",
              "33423    negative  ...                                  i hate mondays...\n",
              "80174    negative  ...  super tired  i need relaxing time.. had a very...\n",
              "765138   negative  ...  sittin in  soc inequalities....dreading the en...\n",
              "989644   positive  ...           first exam tommorrow! ready to suck!  xd\n",
              "1120400  positive  ...   @ happy to know that. welcome to the family, kid\n",
              "1035332  positive  ...         what happened? can you give a link please?\n",
              "794425   negative  ...  i miss nhl hockey  ... as if i have to wait an...\n",
              "1526377  positive  ...  @ i'll make it easy for you, hire me at $,,/mo...\n",
              "622206   negative  ...                   i just wanna you here by my side\n",
              "162065   negative  ...                                  rain rain go away\n",
              "\n",
              "[10 rows x 3 columns]"
            ]
          },
          "metadata": {
            "tags": []
          },
          "execution_count": 7
        }
      ]
    },
    {
      "cell_type": "markdown",
      "metadata": {
        "id": "24G2cqckfkf6"
      },
      "source": [
        "## Test on smaller dataset"
      ]
    },
    {
      "cell_type": "markdown",
      "metadata": {
        "id": "rGByTfm3jeyp"
      },
      "source": [
        "In order to make several test and try different models, we're going to work on a smaller part of the dataset so that the processing doesn't take too long."
      ]
    },
    {
      "cell_type": "code",
      "metadata": {
        "id": "n-UueQI0jpJz"
      },
      "source": [
        "dev_data = data[:50000]"
      ],
      "execution_count": 15,
      "outputs": []
    },
    {
      "cell_type": "code",
      "metadata": {
        "colab": {
          "base_uri": "https://localhost:8080/",
          "height": 204
        },
        "id": "Kf-Jd_JjfpoV",
        "outputId": "2699d381-bb6e-4692-82cc-1c14c63dce7a"
      },
      "source": [
        "for index, row in dev_data.iterrows():\n",
        "  tokens = row['Preprocessed text'].split()\n",
        "  without_stopwords = [w for w in tokens if not w in list(nltk.corpus.stopwords.words('english'))]\n",
        "  row['Preprocessed text'] = ' '.join(w for w in without_stopwords)\n",
        "\n",
        "dev_data.head()"
      ],
      "execution_count": 16,
      "outputs": [
        {
          "output_type": "execute_result",
          "data": {
            "text/html": [
              "<div>\n",
              "<style scoped>\n",
              "    .dataframe tbody tr th:only-of-type {\n",
              "        vertical-align: middle;\n",
              "    }\n",
              "\n",
              "    .dataframe tbody tr th {\n",
              "        vertical-align: top;\n",
              "    }\n",
              "\n",
              "    .dataframe thead th {\n",
              "        text-align: right;\n",
              "    }\n",
              "</style>\n",
              "<table border=\"1\" class=\"dataframe\">\n",
              "  <thead>\n",
              "    <tr style=\"text-align: right;\">\n",
              "      <th></th>\n",
              "      <th>Sentiment</th>\n",
              "      <th>Text</th>\n",
              "      <th>Preprocessed text</th>\n",
              "    </tr>\n",
              "  </thead>\n",
              "  <tbody>\n",
              "    <tr>\n",
              "      <th>33423</th>\n",
              "      <td>negative</td>\n",
              "      <td>I hate Mondays...</td>\n",
              "      <td>hate mondays...</td>\n",
              "    </tr>\n",
              "    <tr>\n",
              "      <th>80174</th>\n",
              "      <td>negative</td>\n",
              "      <td>Super tired  I need relaxing time.. Had a very...</td>\n",
              "      <td>super tired need relaxing time.. good day yest...</td>\n",
              "    </tr>\n",
              "    <tr>\n",
              "      <th>765138</th>\n",
              "      <td>negative</td>\n",
              "      <td>sittin in 309 soc inequalities....dreading the...</td>\n",
              "      <td>sittin soc inequalities....dreading end july....</td>\n",
              "    </tr>\n",
              "    <tr>\n",
              "      <th>989644</th>\n",
              "      <td>positive</td>\n",
              "      <td>First Exam Tommorrow! Ready to suck!  XD</td>\n",
              "      <td>first exam tommorrow! ready suck! xd</td>\n",
              "    </tr>\n",
              "    <tr>\n",
              "      <th>1120400</th>\n",
              "      <td>positive</td>\n",
              "      <td>@sid88 Happy to know that. Welcome to the fami...</td>\n",
              "      <td>@ happy know that. welcome family, kid</td>\n",
              "    </tr>\n",
              "  </tbody>\n",
              "</table>\n",
              "</div>"
            ],
            "text/plain": [
              "        Sentiment  ...                                  Preprocessed text\n",
              "33423    negative  ...                                    hate mondays...\n",
              "80174    negative  ...  super tired need relaxing time.. good day yest...\n",
              "765138   negative  ...   sittin soc inequalities....dreading end july....\n",
              "989644   positive  ...               first exam tommorrow! ready suck! xd\n",
              "1120400  positive  ...             @ happy know that. welcome family, kid\n",
              "\n",
              "[5 rows x 3 columns]"
            ]
          },
          "metadata": {
            "tags": []
          },
          "execution_count": 16
        }
      ]
    },
    {
      "cell_type": "markdown",
      "metadata": {
        "id": "3EjWm-rflXH4"
      },
      "source": [
        "Now let's tokenize the texts so that we can use it to train our model."
      ]
    },
    {
      "cell_type": "code",
      "metadata": {
        "colab": {
          "base_uri": "https://localhost:8080/"
        },
        "id": "CHzfmV7hlcHd",
        "outputId": "41e7f527-7b47-4baf-c5c0-d25c9b7b4bf5"
      },
      "source": [
        "#max_features = 5000\n",
        "tokenizer = Tokenizer(\n",
        "    num_words= None, #max_features,\n",
        "    filters='!\"#$%&()*+,-./:;<=>?@[\\\\]^_`{|}~\\t\\n',\n",
        "    split=\" \"\n",
        ")\n",
        "tokenizer.fit_on_texts(dev_data['Preprocessed text'].values)\n",
        "X = tokenizer.texts_to_sequences(dev_data['Preprocessed text'].values)\n",
        "X = pad_sequences(X)\n",
        "\n",
        "vocab_size = len(tokenizer.word_index) + 1\n",
        "print(vocab_size)"
      ],
      "execution_count": 19,
      "outputs": [
        {
          "output_type": "stream",
          "text": [
            "38864\n"
          ],
          "name": "stdout"
        }
      ]
    },
    {
      "cell_type": "markdown",
      "metadata": {
        "id": "N8qnQ3_ymCB1"
      },
      "source": [
        "Now that we vectorized the texts, by turning each text into a sequence of integers (each integer being the index of a token in a dictionary), we can create our training data by splitting the data in two part : a training set and a test set."
      ]
    },
    {
      "cell_type": "code",
      "metadata": {
        "colab": {
          "base_uri": "https://localhost:8080/"
        },
        "id": "7MemjyA8mpu1",
        "outputId": "27d49b47-e084-4a5e-b9d5-1d82c8fa2e76"
      },
      "source": [
        "sentiment_label = dev_data.Sentiment.factorize()\n",
        "print(sentiment_label[1])\n",
        "y = sentiment_label[0]\n",
        "X_train, X_test, y_train, y_test = train_test_split(X, y, test_size=0.2, random_state=1, shuffle=False)"
      ],
      "execution_count": 22,
      "outputs": [
        {
          "output_type": "stream",
          "text": [
            "Index(['negative', 'positive'], dtype='object')\n"
          ],
          "name": "stdout"
        }
      ]
    }
  ]
}